{
 "cells": [
  {
   "cell_type": "code",
   "execution_count": 4,
   "id": "0efd5788",
   "metadata": {},
   "outputs": [
    {
     "name": "stdout",
     "output_type": "stream",
     "text": [
      "enter the values of leaf 0:30\n",
      "enter the values of leaf 1:1\n",
      "enter the values of leaf 2:6\n",
      "enter the values of leaf 3:5\n",
      "enter the values of leaf 4:1\n",
      "enter the values of leaf 5:2\n",
      "enter the values of leaf 6:10\n",
      "enter the values of leaf 7:20\n",
      "the optimized value is 6\n"
     ]
    }
   ],
   "source": [
    "maxi=float(\"inf\")\n",
    "mini=float(\"-inf\")\n",
    "\n",
    "def abp(depth,nodeindex,values,alpha,beta,maximizing_player):\n",
    "    if(depth==3):\n",
    "        return values[nodeindex]\n",
    "    if(maximizing_player):\n",
    "        best=mini\n",
    "        for i in range(2):\n",
    "            score = abp(depth+1,2*nodeindex+i,values,alpha,beta,False)\n",
    "            \n",
    "            best=max(best,score)\n",
    "            alpha=max(alpha,best)\n",
    "            if(alpha>=beta):\n",
    "                break\n",
    "        return best\n",
    "    else:\n",
    "        best=maxi\n",
    "        for i in range(2):\n",
    "            score = abp(depth+1,2*nodeindex+i,values,alpha,beta,True)\n",
    "            \n",
    "            best=min(best,score)\n",
    "            beta=min(beta,best)\n",
    "            if(alpha>=beta):\n",
    "                break\n",
    "        return best\n",
    "    \n",
    "values=[]\n",
    "for i in range(8):\n",
    "    dummy=int(input(\"enter the values of leaf %d:\"%i))\n",
    "    values.append(dummy)\n",
    "alpha=float(\"-inf\")\n",
    "beta=float(\"inf\")\n",
    "opt_val=abp(0,0,values,alpha,beta,True)\n",
    "print(\"the optimized value is %d\"%(opt_val))"
   ]
  },
  {
   "cell_type": "code",
   "execution_count": null,
   "id": "f8e048ca",
   "metadata": {},
   "outputs": [],
   "source": []
  }
 ],
 "metadata": {
  "kernelspec": {
   "display_name": "Python 3 (ipykernel)",
   "language": "python",
   "name": "python3"
  },
  "language_info": {
   "codemirror_mode": {
    "name": "ipython",
    "version": 3
   },
   "file_extension": ".py",
   "mimetype": "text/x-python",
   "name": "python",
   "nbconvert_exporter": "python",
   "pygments_lexer": "ipython3",
   "version": "3.10.9"
  }
 },
 "nbformat": 4,
 "nbformat_minor": 5
}
